{
  "nbformat": 4,
  "nbformat_minor": 0,
  "metadata": {
    "colab": {
      "provenance": []
    },
    "kernelspec": {
      "name": "python3",
      "display_name": "Python 3"
    },
    "language_info": {
      "name": "python"
    }
  },
  "cells": [
    {
      "cell_type": "code",
      "execution_count": null,
      "metadata": {
        "id": "s6X51uI43niP",
        "colab": {
          "base_uri": "https://localhost:8080/"
        },
        "outputId": "d351b804-1ef7-4857-9715-048860ca9092"
      },
      "outputs": [
        {
          "output_type": "stream",
          "name": "stdout",
          "text": [
            "20\n"
          ]
        }
      ],
      "source": [
        "# Q1-write a python function that takes a list of numbers as input and returns the sum of all even numbers in list.\n",
        "numb=[1,2,3,4,5,6,7,8]\n",
        "def sum_evan(numb):\n",
        "    s=0\n",
        "    for i in numb:\n",
        "        if i%2==0:\n",
        "            s=s+i\n",
        "    return s\n",
        "print(sum_evan(numb))\n",
        "\n",
        "\n"
      ]
    },
    {
      "cell_type": "code",
      "source": [
        "# Q-2creat a python function that accepts a string and returns a reverse of that string.\n",
        "\n",
        "def rev_strng(a):\n",
        "    return a[::-1]\n",
        "\n",
        "strg = \"i love india\"\n",
        "print(rev_strng(strg))"
      ],
      "metadata": {
        "colab": {
          "base_uri": "https://localhost:8080/"
        },
        "id": "rrqOegJDT8eJ",
        "outputId": "e542eb87-edbf-4499-b0f1-39fedf7e2d18"
      },
      "execution_count": null,
      "outputs": [
        {
          "output_type": "stream",
          "name": "stdout",
          "text": [
            "aidni evol i\n"
          ]
        }
      ]
    },
    {
      "cell_type": "code",
      "source": [
        "# Q-3 implement a python function that takes a list of integers and returns new list containing the squares of each number.\n",
        "l=[2,5,6]\n",
        "def sqr_num(a):\n",
        "    s=[]\n",
        "    for i in a:\n",
        "        s.append(i**2)\n",
        "    return s\n",
        "print(sqr_num(l))"
      ],
      "metadata": {
        "colab": {
          "base_uri": "https://localhost:8080/"
        },
        "id": "inEnw-EodpDt",
        "outputId": "532f0673-fba4-4e29-dbc7-1bcc1ae71f67"
      },
      "execution_count": null,
      "outputs": [
        {
          "output_type": "stream",
          "name": "stdout",
          "text": [
            "[4, 25, 36]\n"
          ]
        }
      ]
    },
    {
      "cell_type": "code",
      "source": [
        "# Q-4 write a python function that checks if a given number is prime or not from 1 to 200.\n",
        "\n",
        "num=199\n",
        "def div(a,b):\n",
        "    for i in range(2,num):\n",
        "        if i%2==0:\n",
        "            print(i,\"its not prime\")\n",
        "        else:\n",
        "            print(i,\"its prime\")\n",
        "\n",
        "print(div(1,200))"
      ],
      "metadata": {
        "colab": {
          "base_uri": "https://localhost:8080/"
        },
        "id": "al2ijv3ceNVM",
        "outputId": "bac945c8-8fc7-435b-ec2c-416e21fc23f4"
      },
      "execution_count": null,
      "outputs": [
        {
          "output_type": "stream",
          "name": "stdout",
          "text": [
            "2 its not prime\n",
            "3 its prime\n",
            "4 its not prime\n",
            "5 its prime\n",
            "6 its not prime\n",
            "7 its prime\n",
            "8 its not prime\n",
            "9 its prime\n",
            "10 its not prime\n",
            "11 its prime\n",
            "12 its not prime\n",
            "13 its prime\n",
            "14 its not prime\n",
            "15 its prime\n",
            "16 its not prime\n",
            "17 its prime\n",
            "18 its not prime\n",
            "19 its prime\n",
            "20 its not prime\n",
            "21 its prime\n",
            "22 its not prime\n",
            "23 its prime\n",
            "24 its not prime\n",
            "25 its prime\n",
            "26 its not prime\n",
            "27 its prime\n",
            "28 its not prime\n",
            "29 its prime\n",
            "30 its not prime\n",
            "31 its prime\n",
            "32 its not prime\n",
            "33 its prime\n",
            "34 its not prime\n",
            "35 its prime\n",
            "36 its not prime\n",
            "37 its prime\n",
            "38 its not prime\n",
            "39 its prime\n",
            "40 its not prime\n",
            "41 its prime\n",
            "42 its not prime\n",
            "43 its prime\n",
            "44 its not prime\n",
            "45 its prime\n",
            "46 its not prime\n",
            "47 its prime\n",
            "48 its not prime\n",
            "49 its prime\n",
            "50 its not prime\n",
            "51 its prime\n",
            "52 its not prime\n",
            "53 its prime\n",
            "54 its not prime\n",
            "55 its prime\n",
            "56 its not prime\n",
            "57 its prime\n",
            "58 its not prime\n",
            "59 its prime\n",
            "60 its not prime\n",
            "61 its prime\n",
            "62 its not prime\n",
            "63 its prime\n",
            "64 its not prime\n",
            "65 its prime\n",
            "66 its not prime\n",
            "67 its prime\n",
            "68 its not prime\n",
            "69 its prime\n",
            "70 its not prime\n",
            "71 its prime\n",
            "72 its not prime\n",
            "73 its prime\n",
            "74 its not prime\n",
            "75 its prime\n",
            "76 its not prime\n",
            "77 its prime\n",
            "78 its not prime\n",
            "79 its prime\n",
            "80 its not prime\n",
            "81 its prime\n",
            "82 its not prime\n",
            "83 its prime\n",
            "84 its not prime\n",
            "85 its prime\n",
            "86 its not prime\n",
            "87 its prime\n",
            "88 its not prime\n",
            "89 its prime\n",
            "90 its not prime\n",
            "91 its prime\n",
            "92 its not prime\n",
            "93 its prime\n",
            "94 its not prime\n",
            "95 its prime\n",
            "96 its not prime\n",
            "97 its prime\n",
            "98 its not prime\n",
            "99 its prime\n",
            "100 its not prime\n",
            "101 its prime\n",
            "102 its not prime\n",
            "103 its prime\n",
            "104 its not prime\n",
            "105 its prime\n",
            "106 its not prime\n",
            "107 its prime\n",
            "108 its not prime\n",
            "109 its prime\n",
            "110 its not prime\n",
            "111 its prime\n",
            "112 its not prime\n",
            "113 its prime\n",
            "114 its not prime\n",
            "115 its prime\n",
            "116 its not prime\n",
            "117 its prime\n",
            "118 its not prime\n",
            "119 its prime\n",
            "120 its not prime\n",
            "121 its prime\n",
            "122 its not prime\n",
            "123 its prime\n",
            "124 its not prime\n",
            "125 its prime\n",
            "126 its not prime\n",
            "127 its prime\n",
            "128 its not prime\n",
            "129 its prime\n",
            "130 its not prime\n",
            "131 its prime\n",
            "132 its not prime\n",
            "133 its prime\n",
            "134 its not prime\n",
            "135 its prime\n",
            "136 its not prime\n",
            "137 its prime\n",
            "138 its not prime\n",
            "139 its prime\n",
            "140 its not prime\n",
            "141 its prime\n",
            "142 its not prime\n",
            "143 its prime\n",
            "144 its not prime\n",
            "145 its prime\n",
            "146 its not prime\n",
            "147 its prime\n",
            "148 its not prime\n",
            "149 its prime\n",
            "150 its not prime\n",
            "151 its prime\n",
            "152 its not prime\n",
            "153 its prime\n",
            "154 its not prime\n",
            "155 its prime\n",
            "156 its not prime\n",
            "157 its prime\n",
            "158 its not prime\n",
            "159 its prime\n",
            "160 its not prime\n",
            "161 its prime\n",
            "162 its not prime\n",
            "163 its prime\n",
            "164 its not prime\n",
            "165 its prime\n",
            "166 its not prime\n",
            "167 its prime\n",
            "168 its not prime\n",
            "169 its prime\n",
            "170 its not prime\n",
            "171 its prime\n",
            "172 its not prime\n",
            "173 its prime\n",
            "174 its not prime\n",
            "175 its prime\n",
            "176 its not prime\n",
            "177 its prime\n",
            "178 its not prime\n",
            "179 its prime\n",
            "180 its not prime\n",
            "181 its prime\n",
            "182 its not prime\n",
            "183 its prime\n",
            "184 its not prime\n",
            "185 its prime\n",
            "186 its not prime\n",
            "187 its prime\n",
            "188 its not prime\n",
            "189 its prime\n",
            "190 its not prime\n",
            "191 its prime\n",
            "192 its not prime\n",
            "193 its prime\n",
            "194 its not prime\n",
            "195 its prime\n",
            "196 its not prime\n",
            "197 its prime\n",
            "198 its not prime\n",
            "None\n"
          ]
        }
      ]
    },
    {
      "cell_type": "code",
      "source": [
        "#Q-6 write a generator function in python that yield the power of 2 up to a given exponet.\n",
        "def square_number_generator(n):\n",
        "    for i in range(n):\n",
        "        yield i**2\n",
        "square_number_generator(10)\n",
        "gen=square_number_generator(10)\n",
        "print(next(gen))\n",
        "print(next(gen))\n",
        "print(next(gen))"
      ],
      "metadata": {
        "colab": {
          "base_uri": "https://localhost:8080/"
        },
        "id": "1liXW3dweNfd",
        "outputId": "914502e3-385c-44f4-ceaf-a87152f8e145"
      },
      "execution_count": null,
      "outputs": [
        {
          "output_type": "stream",
          "name": "stdout",
          "text": [
            "0\n",
            "1\n",
            "4\n"
          ]
        }
      ]
    },
    {
      "cell_type": "code",
      "source": [
        "#Q-7 implement a generator function that read a file line by line and yield each line as a string.\n",
        "\n",
        "def fetch_lines(fname):\n",
        "    with open(fname,'r')as file:\n",
        "        for line in file:\n",
        "            yield line\n",
        "\n",
        "zen = fetch_lines(\"D:\\\\fname.txt\")\n",
        "print(next(zen))\n",
        "print(next(zen))\n",
        "print(next(zen))\n"
      ],
      "metadata": {
        "colab": {
          "base_uri": "https://localhost:8080/",
          "height": 332
        },
        "id": "E4uRhWqYfoks",
        "outputId": "d68c9539-e974-461f-92ab-2cc67eadb54d"
      },
      "execution_count": null,
      "outputs": [
        {
          "output_type": "error",
          "ename": "FileNotFoundError",
          "evalue": "[Errno 2] No such file or directory: 'D:\\\\fname.txt'",
          "traceback": [
            "\u001b[0;31m---------------------------------------------------------------------------\u001b[0m",
            "\u001b[0;31mFileNotFoundError\u001b[0m                         Traceback (most recent call last)",
            "\u001b[0;32m<ipython-input-9-2e91ac0c8353>\u001b[0m in \u001b[0;36m<cell line: 9>\u001b[0;34m()\u001b[0m\n\u001b[1;32m      7\u001b[0m \u001b[0;34m\u001b[0m\u001b[0m\n\u001b[1;32m      8\u001b[0m \u001b[0mzen\u001b[0m \u001b[0;34m=\u001b[0m \u001b[0mfetch_lines\u001b[0m\u001b[0;34m(\u001b[0m\u001b[0;34m\"D:\\\\fname.txt\"\u001b[0m\u001b[0;34m)\u001b[0m\u001b[0;34m\u001b[0m\u001b[0;34m\u001b[0m\u001b[0m\n\u001b[0;32m----> 9\u001b[0;31m \u001b[0mprint\u001b[0m\u001b[0;34m(\u001b[0m\u001b[0mnext\u001b[0m\u001b[0;34m(\u001b[0m\u001b[0mzen\u001b[0m\u001b[0;34m)\u001b[0m\u001b[0;34m)\u001b[0m\u001b[0;34m\u001b[0m\u001b[0;34m\u001b[0m\u001b[0m\n\u001b[0m\u001b[1;32m     10\u001b[0m \u001b[0mprint\u001b[0m\u001b[0;34m(\u001b[0m\u001b[0mnext\u001b[0m\u001b[0;34m(\u001b[0m\u001b[0mzen\u001b[0m\u001b[0;34m)\u001b[0m\u001b[0;34m)\u001b[0m\u001b[0;34m\u001b[0m\u001b[0;34m\u001b[0m\u001b[0m\n\u001b[1;32m     11\u001b[0m \u001b[0mprint\u001b[0m\u001b[0;34m(\u001b[0m\u001b[0mnext\u001b[0m\u001b[0;34m(\u001b[0m\u001b[0mzen\u001b[0m\u001b[0;34m)\u001b[0m\u001b[0;34m)\u001b[0m\u001b[0;34m\u001b[0m\u001b[0;34m\u001b[0m\u001b[0m\n",
            "\u001b[0;32m<ipython-input-9-2e91ac0c8353>\u001b[0m in \u001b[0;36mfetch_lines\u001b[0;34m(fname)\u001b[0m\n\u001b[1;32m      2\u001b[0m \u001b[0;34m\u001b[0m\u001b[0m\n\u001b[1;32m      3\u001b[0m \u001b[0;32mdef\u001b[0m \u001b[0mfetch_lines\u001b[0m\u001b[0;34m(\u001b[0m\u001b[0mfname\u001b[0m\u001b[0;34m)\u001b[0m\u001b[0;34m:\u001b[0m\u001b[0;34m\u001b[0m\u001b[0;34m\u001b[0m\u001b[0m\n\u001b[0;32m----> 4\u001b[0;31m     \u001b[0;32mwith\u001b[0m \u001b[0mopen\u001b[0m\u001b[0;34m(\u001b[0m\u001b[0mfname\u001b[0m\u001b[0;34m,\u001b[0m\u001b[0;34m'r'\u001b[0m\u001b[0;34m)\u001b[0m\u001b[0;32mas\u001b[0m \u001b[0mfile\u001b[0m\u001b[0;34m:\u001b[0m\u001b[0;34m\u001b[0m\u001b[0;34m\u001b[0m\u001b[0m\n\u001b[0m\u001b[1;32m      5\u001b[0m         \u001b[0;32mfor\u001b[0m \u001b[0mline\u001b[0m \u001b[0;32min\u001b[0m \u001b[0mfile\u001b[0m\u001b[0;34m:\u001b[0m\u001b[0;34m\u001b[0m\u001b[0;34m\u001b[0m\u001b[0m\n\u001b[1;32m      6\u001b[0m             \u001b[0;32myield\u001b[0m \u001b[0mline\u001b[0m\u001b[0;34m\u001b[0m\u001b[0;34m\u001b[0m\u001b[0m\n",
            "\u001b[0;31mFileNotFoundError\u001b[0m: [Errno 2] No such file or directory: 'D:\\\\fname.txt'"
          ]
        }
      ]
    },
    {
      "cell_type": "code",
      "source": [
        "from google.colab import drive\n",
        "drive.mount('/content/drive')"
      ],
      "metadata": {
        "id": "1BnKZqVFms85"
      },
      "execution_count": null,
      "outputs": []
    },
    {
      "cell_type": "code",
      "source": [
        "#Q-8 use lambda function in python to sort a list of tuples based on the second element of each tuple.\n",
        "l=[(1,12,2),(4,8,5),(7,10,8),(11,1,13)]\n",
        "sorted_list=sorted(l,key=lambda i:i[1])\n",
        "print(sorted_list)\n"
      ],
      "metadata": {
        "colab": {
          "base_uri": "https://localhost:8080/"
        },
        "id": "aH1e3Jn6hEt-",
        "outputId": "05fdf09d-3e85-41b8-bad9-efe1b3b8bbde"
      },
      "execution_count": null,
      "outputs": [
        {
          "output_type": "stream",
          "name": "stdout",
          "text": [
            "[(11, 1, 13), (4, 8, 5), (7, 10, 8), (1, 12, 2)]\n"
          ]
        }
      ]
    },
    {
      "cell_type": "code",
      "source": [
        "#Q-9 write a python program that uses map() to convert a list of tempreture from celsius to fahrenheit.\n",
        "l=[2,5,6,7]\n",
        "\n",
        "j=list(map(lambda x:(x*1.8)+32,l))\n",
        "print(j)\n"
      ],
      "metadata": {
        "colab": {
          "base_uri": "https://localhost:8080/"
        },
        "id": "kiqPaIpziG6w",
        "outputId": "8e4065de-becd-4506-80b9-f731313be095"
      },
      "execution_count": null,
      "outputs": [
        {
          "output_type": "stream",
          "name": "stdout",
          "text": [
            "[35.6, 41.0, 42.8, 44.6]\n"
          ]
        }
      ]
    },
    {
      "cell_type": "code",
      "source": [
        "#Q-10 create a python program that uses filter() to remove all the vowels from a given string\n",
        "string=\"i love india\"\n",
        "\n",
        "def filter_vowels(letter):\n",
        "    vowels=['a','e','i','o','u']\n",
        "    if letter in vowels:\n",
        "        return True\n",
        "    else:\n",
        "        return False\n",
        "filtered_vowels = filter(filter_vowels,string)\n",
        "for x in filtered_vowels:\n",
        "    print(x)"
      ],
      "metadata": {
        "colab": {
          "base_uri": "https://localhost:8080/"
        },
        "id": "qopDQ_fejaBW",
        "outputId": "7a3beaa4-11df-46fe-cc07-d43180d4480a"
      },
      "execution_count": null,
      "outputs": [
        {
          "output_type": "stream",
          "name": "stdout",
          "text": [
            "i\n",
            "o\n",
            "e\n",
            "i\n",
            "i\n",
            "a\n"
          ]
        }
      ]
    }
  ]
}